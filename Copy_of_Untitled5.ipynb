{
  "nbformat": 4,
  "nbformat_minor": 0,
  "metadata": {
    "colab": {
      "name": "Copy of Untitled5.ipynb",
      "provenance": [],
      "authorship_tag": "ABX9TyOctZ9YkLmRlW8lsClhlW+e",
      "include_colab_link": true
    },
    "kernelspec": {
      "name": "python3",
      "display_name": "Python 3"
    }
  },
  "cells": [
    {
      "cell_type": "markdown",
      "metadata": {
        "id": "view-in-github",
        "colab_type": "text"
      },
      "source": [
        "<a href=\"https://colab.research.google.com/github/Ruby-kuo/ComputationalThinkingandProgramDesing/blob/master/Copy_of_Untitled5.ipynb\" target=\"_parent\"><img src=\"https://colab.research.google.com/assets/colab-badge.svg\" alt=\"Open In Colab\"/></a>"
      ]
    },
    {
      "cell_type": "code",
      "metadata": {
        "id": "8T1yzY66oVl2",
        "colab_type": "code",
        "outputId": "021f0376-4c94-44ef-daf6-9a2482f6f59e",
        "colab": {
          "base_uri": "https://localhost:8080/",
          "height": 54
        }
      },
      "source": [
        "# Area = 3.14 *(r **2) 公式\n",
        "\n",
        "# Input r, Get Area\n",
        "\n",
        "\n",
        "### Input r\n",
        "\n",
        "r = input(\"輸入半徑? \") #string\n",
        "\n",
        "r = int(r) # integer\n",
        "\n",
        "# r = int(input(\"輸入半徑? \"))\n",
        "\n",
        "\n",
        "### Get Area - Process\n",
        "\n",
        "area = 3.14 * (r **2) # ** 次方\n",
        "\n",
        "\n",
        "### Output - Print \n",
        "\n",
        "\n",
        "print(\"Area is \", area)"
      ],
      "execution_count": 0,
      "outputs": [
        {
          "output_type": "stream",
          "text": [
            "輸入半徑? 5\n",
            "Area is  78.5\n"
          ],
          "name": "stdout"
        }
      ]
    },
    {
      "cell_type": "code",
      "metadata": {
        "id": "9wwsLFE0vv7H",
        "colab_type": "code",
        "outputId": "e421c76c-e9a4-45a4-e71d-33ea479a668f",
        "colab": {
          "base_uri": "https://localhost:8080/",
          "height": 298
        }
      },
      "source": [
        "## 華氏溫度 = 攝氏溫度*9/5+32\n",
        "\n",
        "\n",
        "# Step1 : Input - input + 攝氏溫度\n",
        "\n",
        "C = input(\"輸入攝氏溫度? \")\n",
        "print(type(C))\n",
        "C = (C)\n",
        "print(type(C))\n",
        "\n",
        "\n",
        "## C = float(input(\"輸入攝氏溫度? \"))\n",
        "\n",
        "\n",
        "\n",
        "# Step2 : Process - 變數數學運算    華氏溫度 = 攝氏溫度*9/5+32\n",
        "\n",
        "## F = C *9 /5 + 32\n",
        "\n",
        "## print(F)\n",
        "\n",
        "\n",
        "F = C * (9/5) +32\n",
        "print(F)\n",
        "\n",
        "\n",
        "# Output -  print + 華氏溫度\n",
        "print(\"華氏溫度為\", F)"
      ],
      "execution_count": 0,
      "outputs": [
        {
          "output_type": "stream",
          "text": [
            "輸入攝氏溫度? 20\n",
            "<class 'str'>\n",
            "<class 'str'>\n"
          ],
          "name": "stdout"
        },
        {
          "output_type": "error",
          "ename": "TypeError",
          "evalue": "ignored",
          "traceback": [
            "\u001b[0;31m---------------------------------------------------------------------------\u001b[0m",
            "\u001b[0;31mTypeError\u001b[0m                                 Traceback (most recent call last)",
            "\u001b[0;32m<ipython-input-2-d3149c28d0b0>\u001b[0m in \u001b[0;36m<module>\u001b[0;34m()\u001b[0m\n\u001b[1;32m     17\u001b[0m \u001b[0;34m\u001b[0m\u001b[0m\n\u001b[1;32m     18\u001b[0m \u001b[0;34m\u001b[0m\u001b[0m\n\u001b[0;32m---> 19\u001b[0;31m \u001b[0mF\u001b[0m \u001b[0;34m=\u001b[0m \u001b[0mC\u001b[0m \u001b[0;34m*\u001b[0m \u001b[0;34m(\u001b[0m\u001b[0;36m9\u001b[0m\u001b[0;34m/\u001b[0m\u001b[0;36m5\u001b[0m\u001b[0;34m)\u001b[0m \u001b[0;34m+\u001b[0m\u001b[0;36m32\u001b[0m\u001b[0;34m\u001b[0m\u001b[0;34m\u001b[0m\u001b[0m\n\u001b[0m\u001b[1;32m     20\u001b[0m \u001b[0mprint\u001b[0m\u001b[0;34m(\u001b[0m\u001b[0mF\u001b[0m\u001b[0;34m)\u001b[0m\u001b[0;34m\u001b[0m\u001b[0;34m\u001b[0m\u001b[0m\n\u001b[1;32m     21\u001b[0m \u001b[0;34m\u001b[0m\u001b[0m\n",
            "\u001b[0;31mTypeError\u001b[0m: can't multiply sequence by non-int of type 'float'"
          ]
        }
      ]
    }
  ]
}