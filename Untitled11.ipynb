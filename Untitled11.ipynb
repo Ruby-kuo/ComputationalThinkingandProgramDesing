{
  "nbformat": 4,
  "nbformat_minor": 0,
  "metadata": {
    "colab": {
      "name": "Untitled7.ipynb",
      "provenance": [],
      "authorship_tag": "ABX9TyM+tt6Kd790pTgP5LQbetFN",
      "include_colab_link": true
    },
    "kernelspec": {
      "name": "python3",
      "display_name": "Python 3"
    }
  },
  "cells": [
    {
      "cell_type": "markdown",
      "metadata": {
        "id": "view-in-github",
        "colab_type": "text"
      },
      "source": [
        "<a href=\"https://colab.research.google.com/github/Ruby-kuo/ComputationalThinkingandProgramDesing/blob/master/Untitled11.ipynb\" target=\"_parent\"><img src=\"https://colab.research.google.com/assets/colab-badge.svg\" alt=\"Open In Colab\"/></a>"
      ]
    },
    {
      "cell_type": "code",
      "metadata": {
        "id": "RMzKKWm6XpQ3",
        "colab_type": "code",
        "colab": {}
      },
      "source": [
        "機器人名稱：吃吃\n",
        "\n",
        "哈囉！我是吃吃，一個熱愛蒐集美食情報的小吃貨\n",
        "\n",
        "只要是台北或是新北的美食都是我的情報來源唷！\n",
        "\n",
        "今天想去哪裡吃美食呀？\n",
        "\n",
        "文山區嗎？想要找離捷運或公車站近的，還是方便停車的呢？\n",
        "\n",
        "捷運美食的話，景美夜市是個很夯的選擇喔！\n",
        "\n",
        "哎呀！景美夜市的衛生評價確實不好，那麼萬隆美食有興趣嗎？\n",
        "\n",
        "好的，那麼要吃正餐還是主食呢？\n",
        "\n",
        "正餐的話，之前你說你喜歡吃涮涮鍋，今天要吃嗎？\n",
        "\n",
        "哇！恭喜你，捷運站出口附近共有三間涮涮鍋，有指定的搜尋項目嗎？\n",
        "\n",
        "嗯… … 要分量多而且價位最低的呀… …\n",
        "\n",
        "有了，錢都涮涮鍋推薦給你，他們有肉量加倍不加價的套餐可以選哦！\n",
        "\n",
        "吃吃還幫你把Google Map的評分跟網路評價文章找好了，要把網址給你嗎？\n",
        "\n",
        "謝謝你相信吃吃的情報，那人家就偷懶不放網址啦！\n",
        "\n",
        "那要給你地址嗎？\n",
        "\n",
        "好的，地點位於：台北市文山區景隆街12號"
      ],
      "execution_count": 0,
      "outputs": []
    }
  ]
}