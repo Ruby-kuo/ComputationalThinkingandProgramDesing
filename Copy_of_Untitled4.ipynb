{
  "nbformat": 4,
  "nbformat_minor": 0,
  "metadata": {
    "colab": {
      "name": "Copy of Untitled4.ipynb",
      "provenance": [],
      "collapsed_sections": [],
      "authorship_tag": "ABX9TyMpp3zQZlKoaLKHWhowUdj9",
      "include_colab_link": true
    },
    "kernelspec": {
      "name": "python3",
      "display_name": "Python 3"
    }
  },
  "cells": [
    {
      "cell_type": "markdown",
      "metadata": {
        "id": "view-in-github",
        "colab_type": "text"
      },
      "source": [
        "<a href=\"https://colab.research.google.com/github/Ruby-kuo/ComputationalThinkingandProgramDesing/blob/master/Copy_of_Untitled4.ipynb\" target=\"_parent\"><img src=\"https://colab.research.google.com/assets/colab-badge.svg\" alt=\"Open In Colab\"/></a>"
      ]
    },
    {
      "cell_type": "code",
      "metadata": {
        "id": "UMlD1pTtprM2",
        "colab_type": "code",
        "outputId": "6c92554c-614a-4662-e24a-23ec6ca87e44",
        "colab": {
          "base_uri": "https://localhost:8080/",
          "height": 243
        }
      },
      "source": [
        "hours = int(\"Enter movie time hours: \")\n",
        "minutes = int(\"Enter movie time minutes\")\n",
        "\n",
        "\n",
        "hours = int(hours)\n",
        "minutes = int(minutes)\n",
        "\n",
        "\n",
        "length = hours * 60 + minutes # 數學運算\n",
        "print(hours, \"Hours\",minutes,\"Minutes\",\"movie length is\", length, \"minutes\")\n",
        "\n",
        "\n",
        "#133分鐘轉成2小時13分鐘\n",
        "#133分鐘 2小時\n",
        "hours1 = length // 60 # hours\n",
        "print(hours1)\n",
        "hours2 = int(hours1)\n",
        "print(hours2)\n",
        "\n",
        "\n",
        "#133分鐘  13分鐘\n",
        "minutes1 = length % 60\n",
        "minutes2 = (minutes1)\n",
        "\n",
        "\n",
        "print(length, \"Minetes equals\", hours2, \"Hours\", minutes2, \"Minutes\")"
      ],
      "execution_count": 0,
      "outputs": [
        {
          "output_type": "error",
          "ename": "ValueError",
          "evalue": "ignored",
          "traceback": [
            "\u001b[0;31m---------------------------------------------------------------------------\u001b[0m",
            "\u001b[0;31mValueError\u001b[0m                                Traceback (most recent call last)",
            "\u001b[0;32m<ipython-input-1-62bf08be1581>\u001b[0m in \u001b[0;36m<module>\u001b[0;34m()\u001b[0m\n\u001b[0;32m----> 1\u001b[0;31m \u001b[0mhours\u001b[0m \u001b[0;34m=\u001b[0m \u001b[0mint\u001b[0m\u001b[0;34m(\u001b[0m\u001b[0;34m\"Enter movie time hours: \"\u001b[0m\u001b[0;34m)\u001b[0m\u001b[0;34m\u001b[0m\u001b[0;34m\u001b[0m\u001b[0m\n\u001b[0m\u001b[1;32m      2\u001b[0m \u001b[0mminutes\u001b[0m \u001b[0;34m=\u001b[0m \u001b[0mint\u001b[0m\u001b[0;34m(\u001b[0m\u001b[0;34m\"Enter movie time minutes\"\u001b[0m\u001b[0;34m)\u001b[0m\u001b[0;34m\u001b[0m\u001b[0;34m\u001b[0m\u001b[0m\n\u001b[1;32m      3\u001b[0m \u001b[0;34m\u001b[0m\u001b[0m\n\u001b[1;32m      4\u001b[0m \u001b[0;34m\u001b[0m\u001b[0m\n\u001b[1;32m      5\u001b[0m \u001b[0mhours\u001b[0m \u001b[0;34m=\u001b[0m \u001b[0mint\u001b[0m\u001b[0;34m(\u001b[0m\u001b[0mhours\u001b[0m\u001b[0;34m)\u001b[0m\u001b[0;34m\u001b[0m\u001b[0;34m\u001b[0m\u001b[0m\n",
            "\u001b[0;31mValueError\u001b[0m: invalid literal for int() with base 10: 'Enter movie time hours: '"
          ]
        }
      ]
    }
  ]
}