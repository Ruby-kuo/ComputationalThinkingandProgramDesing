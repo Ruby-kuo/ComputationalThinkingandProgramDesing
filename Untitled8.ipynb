{
  "nbformat": 4,
  "nbformat_minor": 0,
  "metadata": {
    "colab": {
      "name": "Untitled6.ipynb",
      "provenance": [],
      "authorship_tag": "ABX9TyPsBbfMu0zocQ+dpnMR0QGt",
      "include_colab_link": true
    },
    "kernelspec": {
      "name": "python3",
      "display_name": "Python 3"
    }
  },
  "cells": [
    {
      "cell_type": "markdown",
      "metadata": {
        "id": "view-in-github",
        "colab_type": "text"
      },
      "source": [
        "<a href=\"https://colab.research.google.com/github/Ruby-kuo/ComputationalThinkingandProgramDesing/blob/master/Untitled8.ipynb\" target=\"_parent\"><img src=\"https://colab.research.google.com/assets/colab-badge.svg\" alt=\"Open In Colab\"/></a>"
      ]
    },
    {
      "cell_type": "code",
      "metadata": {
        "id": "oGHGlvpreVQt",
        "colab_type": "code",
        "outputId": "9284db7d-8d43-4dc5-b33b-d7c0e34b5402",
        "colab": {
          "base_uri": "https://localhost:8080/",
          "height": 90
        }
      },
      "source": [
        "上衣 = int(input(\"請輸入上衣數量\"))\n",
        "\n",
        "褲子 = int(input(\"請輸入褲子數量\"))\n",
        "\n",
        "背心 = int(input(\"請輸入背心數量\"))\n",
        "\n",
        "總金額 = 上衣 * 300 + 褲子 * 350 + 背心 * 400\n",
        "\n",
        "print (\"訂購服裝的總金額為\",總金額)"
      ],
      "execution_count": 0,
      "outputs": [
        {
          "output_type": "stream",
          "text": [
            "請輸入上衣數量1\n",
            "請輸入褲子數量3\n",
            "請輸入背心數量8\n",
            "訂購服裝的總金額為 4550\n"
          ],
          "name": "stdout"
        }
      ]
    },
    {
      "cell_type": "code",
      "metadata": {
        "id": "y9jVawrMmD6-",
        "colab_type": "code",
        "outputId": "4507c929-3b6e-45ff-93ba-9ecc28e2c4a3",
        "colab": {
          "base_uri": "https://localhost:8080/",
          "height": 53
        }
      },
      "source": [
        "飲料數量 = int (input(\"請輸入飲料數量?\"))\n",
        "\n",
        "打數 = (飲料數量 // 12 )\n",
        "\n",
        "罐數 = (飲料數量 % 12 )\n",
        "\n",
        "總金額 = 打數 * 200 + 罐數 * 20\n",
        "\n",
        "print (\"飲料的總金額為\",總金額)"
      ],
      "execution_count": 0,
      "outputs": [
        {
          "output_type": "stream",
          "text": [
            "請輸入飲料數量?36\n",
            "飲料的總金額為 600\n"
          ],
          "name": "stdout"
        }
      ]
    },
    {
      "cell_type": "code",
      "metadata": {
        "id": "y-Hm1BQEnXKk",
        "colab_type": "code",
        "outputId": "da8346d5-3910-4f7e-e85a-51d3e4449e63",
        "colab": {
          "base_uri": "https://localhost:8080/",
          "height": 108
        }
      },
      "source": [
        "第一次期中考成績 = int (input(\"請輸入第一次期中考成績\"))\n",
        "\n",
        "第二次期中考成績 = int (input(\"請輸入第二次期中考成績\"))\n",
        "\n",
        "期末考成績 = int (input(\"請輸入期末考成績\"))\n",
        "\n",
        "加總 = (第一次期中考成績 + 第二次期中考成績 + 期末考成績)\n",
        "\n",
        "平均 = (第一次期中考成績 + 第二次期中考成績 + 期末考成績)//3\n",
        "\n",
        "print (\"分數加總為\",加總)\n",
        "\n",
        "print (\"分數平均為\",平均)"
      ],
      "execution_count": 0,
      "outputs": [
        {
          "output_type": "stream",
          "text": [
            "請輸入第一次期中考成績60\n",
            "請輸入第二次期中考成績70\n",
            "請輸入期末考成績80\n",
            "分數加總為 210\n",
            "分數平均為 70\n"
          ],
          "name": "stdout"
        }
      ]
    }
  ]
}