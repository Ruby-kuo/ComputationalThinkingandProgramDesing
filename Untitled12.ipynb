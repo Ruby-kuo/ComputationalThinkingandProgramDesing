{
  "nbformat": 4,
  "nbformat_minor": 0,
  "metadata": {
    "colab": {
      "name": "Untitled8.ipynb",
      "provenance": [],
      "authorship_tag": "ABX9TyOTd9uJwaVFJyz5cWzuEztU",
      "include_colab_link": true
    },
    "kernelspec": {
      "name": "python3",
      "display_name": "Python 3"
    }
  },
  "cells": [
    {
      "cell_type": "markdown",
      "metadata": {
        "id": "view-in-github",
        "colab_type": "text"
      },
      "source": [
        "<a href=\"https://colab.research.google.com/github/Ruby-kuo/ComputationalThinkingandProgramDesing/blob/master/Untitled12.ipynb\" target=\"_parent\"><img src=\"https://colab.research.google.com/assets/colab-badge.svg\" alt=\"Open In Colab\"/></a>"
      ]
    },
    {
      "cell_type": "code",
      "metadata": {
        "id": "_KcyKyAb4mG_",
        "colab_type": "code",
        "colab": {
          "base_uri": "https://localhost:8080/",
          "height": 54
        },
        "outputId": "7d92f0bd-de29-44bb-c5d6-4c13f240a025"
      },
      "source": [
        "\n",
        "\n",
        "score = input(\"請輸入成績?\") # 文字資料\n",
        "score = int(score) # 成績轉成數字資料\n",
        "\n",
        "## Process - Three Way \n",
        "\n",
        "if score >=80:\n",
        "  print(\"Well Done!\")\n",
        "elif score >=60:\n",
        "  print(\"Good, Pass\")\n",
        "else:\n",
        "  print(\"Work Hader\")\n"
      ],
      "execution_count": 20,
      "outputs": [
        {
          "output_type": "stream",
          "text": [
            "請輸入成績?65\n",
            "Good, Pass\n"
          ],
          "name": "stdout"
        }
      ]
    }
  ]
}